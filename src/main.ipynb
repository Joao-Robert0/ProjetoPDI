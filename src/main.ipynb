{
 "cells": [
  {
   "cell_type": "markdown",
   "id": "e7e7935c",
   "metadata": {},
   "source": [
    "### Import das bibliotecas e funções necessárias"
   ]
  },
  {
   "cell_type": "code",
   "execution_count": 25,
   "id": "14d4bc9b",
   "metadata": {},
   "outputs": [],
   "source": [
    "import os\n",
    "from libs.extractor import extractor"
   ]
  },
  {
   "cell_type": "markdown",
   "id": "edbe9c24",
   "metadata": {},
   "source": [
    "### Variáveis de Ajuste E caminho das pastas\n",
    "\n",
    "São as variáveis de ajuste, como o nome do arquivo do video que vai ser usado para treinamento, hiper-parâmetros de treinamento, intervalo do tempo entre as extrações de frames, melhorias a serem aplicadas, etc....."
   ]
  },
  {
   "cell_type": "code",
   "execution_count": null,
   "id": "48ed6d6d",
   "metadata": {},
   "outputs": [],
   "source": [
    "video_name = \"ep1.mkv\" #Nome do arquivo na pasta video que vai ser escolhido\n",
    "intervalo = 3"
   ]
  },
  {
   "cell_type": "markdown",
   "id": "b1542163",
   "metadata": {},
   "source": [
    "Caminho das pastas a ser utilizadas, para os videos, frames extraídos, frames melhorados (que passaram pela etapa de pós processamento), rostos cortados, etc....\n",
    "Os arquivos de video devem ser postos em uma pasta chamada videos que deve estar dentro da raiz deste projeto"
   ]
  },
  {
   "cell_type": "code",
   "execution_count": null,
   "id": "7c150ba9",
   "metadata": {},
   "outputs": [],
   "source": [
    "project_root = os.path.dirname(os.getcwd())\n",
    "video_path = os.path.join(project_root, \"videos\", video_name)\n",
    "frame_path = os.path.join(project_root, \"frames\")"
   ]
  },
  {
   "cell_type": "markdown",
   "id": "692682cb",
   "metadata": {},
   "source": [
    "### Extração dos frames dos vídeos\n",
    "Frames são extraídos a cada 3 segundos e colocados na pasta frames"
   ]
  },
  {
   "cell_type": "code",
   "execution_count": null,
   "id": "b833a491",
   "metadata": {},
   "outputs": [],
   "source": [
    "frame_extractor = extractor(video_path)\n",
    "\n",
    "frame_extractor.openVideo()\n",
    "frame_extractor.extractFrames(frame_path)\n",
    "frame_extractor.closeVideo()"
   ]
  }
 ],
 "metadata": {
  "kernelspec": {
   "display_name": "venv",
   "language": "python",
   "name": "python3"
  },
  "language_info": {
   "codemirror_mode": {
    "name": "ipython",
    "version": 3
   },
   "file_extension": ".py",
   "mimetype": "text/x-python",
   "name": "python",
   "nbconvert_exporter": "python",
   "pygments_lexer": "ipython3",
   "version": "3.13.3"
  }
 },
 "nbformat": 4,
 "nbformat_minor": 5
}
