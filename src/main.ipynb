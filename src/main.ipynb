{
 "cells": [
  {
   "cell_type": "markdown",
   "id": "e7e7935c",
   "metadata": {},
   "source": [
    "### Import das bibliotecas e funções necessárias"
   ]
  },
  {
   "cell_type": "code",
   "execution_count": 1,
   "id": "14d4bc9b",
   "metadata": {},
   "outputs": [],
   "source": [
    "import os\n",
    "import cv2\n",
    "from libs.frame_extractor import Extractor\n",
    "from libs.pre_processing import PreProcessor # Use the actual class name defined in pre_processing.py\n",
    "from libs.harr_cascade import HarrCascade"
   ]
  },
  {
   "cell_type": "markdown",
   "id": "edbe9c24",
   "metadata": {},
   "source": [
    "### Variáveis de Ajuste E caminho das pastas\n",
    "\n",
    "São as variáveis de ajuste, como o nome do arquivo do video que vai ser usado para treinamento, hiper-parâmetros de treinamento, intervalo do tempo entre as extrações de frames, melhorias a serem aplicadas, etc....."
   ]
  },
  {
   "cell_type": "code",
   "execution_count": 2,
   "id": "48ed6d6d",
   "metadata": {},
   "outputs": [],
   "source": [
    "video_name = \"ep1.mkv\" #Nome do arquivo na pasta video que vai ser escolhido\n",
    "intervalo = 3\n",
    "\n",
    "# Pré-Processamento\n",
    "\n",
    "config = {\n",
    "\t'grayscale': True, # HarrCascades geralmente são treinados pra rodar em imagens cinzas\n",
    "\t'downscale': True, # Harr varre a imagem, então imagens maiores levam mais tempo pra ser processadas\n",
    "\t'clahe': True, # Não vai funcionar se grayscale for falso, ajuda com a diferença de iluminação nas cenas\n",
    "\t'gaussian_blur': True # Ajuda a reduzir o ruído do vídeo\n",
    "}\n",
    "\n",
    "params = { \n",
    "\t'downscale': {'factor': 0.5},\n",
    "\t'clahe': {'clip_limit': 2.0, 'grid_size': (8, 8)},\n",
    "\t'gaussian_blur': {'kernel_size': (3, 3), 'sigma': 1.0}\n",
    "}\n",
    "\n",
    "# Harr-Casade\n",
    "\n",
    "params_harr_cascade = {\n",
    "  'scaleFactor': 1.2,\n",
    "  'minNeighbors': 6,\n",
    "\t'minSize': (120, 120),\n",
    "\t'flags': cv2.CASCADE_SCALE_IMAGE\n",
    "}\n"
   ]
  },
  {
   "cell_type": "markdown",
   "id": "b1542163",
   "metadata": {},
   "source": [
    "Caminho das pastas a ser utilizadas, para os videos, frames extraídos, frames melhorados (que passaram pela etapa de pós processamento), rostos cortados, etc....\n",
    "Os arquivos de video devem ser postos em uma pasta chamada videos que deve estar dentro da raiz deste projeto"
   ]
  },
  {
   "cell_type": "code",
   "execution_count": 3,
   "id": "7c150ba9",
   "metadata": {},
   "outputs": [],
   "source": [
    "project_root = os.path.dirname(os.getcwd())\n",
    "enhaced_folder = os.path.join(project_root, \"enhanced\")\n",
    "frame_folder = os.path.join(project_root, \"frames\")\n",
    "video_path = os.path.join(project_root, \"videos\", video_name)\n",
    "face_folder = os.path.join(project_root,\"faces\")"
   ]
  },
  {
   "cell_type": "markdown",
   "id": "692682cb",
   "metadata": {},
   "source": [
    "### Extração dos frames dos vídeos\n",
    "Frames são extraídos a cada 3 segundos e colocados na pasta frames"
   ]
  },
  {
   "cell_type": "code",
   "execution_count": null,
   "id": "b833a491",
   "metadata": {},
   "outputs": [],
   "source": [
    "frame_extractor = Extractor(video_path)\n",
    "\n",
    "frame_extractor.openVideo()\n",
    "frame_extractor.extractFrames(frame_folder)\n",
    "frame_extractor.closeVideo()"
   ]
  },
  {
   "cell_type": "markdown",
   "id": "4cf94adb",
   "metadata": {},
   "source": [
    "### Pré-processamento\n",
    "Pré-processamento de imagens afim de facilitar a aplicação do Haar Cascade, os parâmetros dos algoritmos de pré-processamento podem ser alteras na célula 2"
   ]
  },
  {
   "cell_type": "code",
   "execution_count": null,
   "id": "ebcaf96b",
   "metadata": {},
   "outputs": [],
   "source": [
    "pre_processer = PreProcessor(frame_folder,enhaced_folder, config, params)\n",
    "pre_processer.processImages()"
   ]
  },
  {
   "cell_type": "markdown",
   "id": "3bb322e6",
   "metadata": {},
   "source": [
    "### Detecção de Rostos\n",
    "Uso do HarrCascade pra detectar rostos e recorta-los"
   ]
  },
  {
   "cell_type": "code",
   "execution_count": null,
   "id": "d6ff7275",
   "metadata": {},
   "outputs": [],
   "source": [
    "harrcascade = HarrCascade(enhaced_folder, face_folder, params_harr_cascade)\n",
    "harrcascade.process_frames()\n",
    ";"
   ]
  }
 ],
 "metadata": {
  "kernelspec": {
   "display_name": "venv",
   "language": "python",
   "name": "python3"
  },
  "language_info": {
   "codemirror_mode": {
    "name": "ipython",
    "version": 3
   },
   "file_extension": ".py",
   "mimetype": "text/x-python",
   "name": "python",
   "nbconvert_exporter": "python",
   "pygments_lexer": "ipython3",
   "version": "3.13.5"
  }
 },
 "nbformat": 4,
 "nbformat_minor": 5
}
